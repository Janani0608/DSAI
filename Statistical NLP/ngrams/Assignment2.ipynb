{
  "nbformat": 4,
  "nbformat_minor": 0,
  "metadata": {
    "colab": {
      "name": "Assignment2.ipynb",
      "provenance": [],
      "collapsed_sections": []
    },
    "kernelspec": {
      "display_name": "Python 3",
      "language": "python",
      "name": "python3"
    },
    "language_info": {
      "codemirror_mode": {
        "name": "ipython",
        "version": 3
      },
      "file_extension": ".py",
      "mimetype": "text/x-python",
      "name": "python",
      "nbconvert_exporter": "python",
      "pygments_lexer": "ipython3",
      "version": "3.8.6"
    }
  },
  "cells": [
    {
      "cell_type": "markdown",
      "metadata": {
        "id": "QXSB0ZZUmrLd"
      },
      "source": [
        "# SNLP Assignment 2\n",
        "\n",
        "Name 1: Janani Karthikeyan <br/> \n",
        "Student id 1:  7010329 <br/>\n",
        "Email 1: jaka00004@stud.uni-saarland.de <br/>\n",
        "\n",
        "\n",
        "Name 2: Anwesha Das <br/>\n",
        "Student id 2:  7010703 <br/>\n",
        "Email 2: anda00002@stud.uni-saarland.de <br/>\n",
        "\n",
        "**Instructions:** Read each question carefully. <br/>\n",
        "Make sure you appropriately comment your code wherever required. Your final submission should contain the completed Notebook and the respective Python files for exercises 2 and 3. There is no need to submit the data files. <br/>\n",
        "Upload the zipped folder in Teams. Make sure to click on \"Turn-in\" after you upload your submission, otherwise the assignment will not be considered as submitted. Only one member of the group should make the submisssion.\n",
        "\n",
        "---\n"
      ]
    },
    {
      "cell_type": "markdown",
      "metadata": {
        "id": "5IQh2t-LF1uz"
      },
      "source": [
        "## Exercise 1 (1.5 + 1.5 = 3 points)\n",
        "\n",
        "The perplexity of a model can also be defined as $2^{-\\frac{1}{n} \\sum^n_1 \\log p(w_i|w_{i-1})}$. For the following exercise, use the log probabilities given this pretrained bigram language model. Tokenization is apparent from the tokens in the following table.\n",
        "\n",
        "|A|B|log p(B\\|A)|\n",
        "|-|-|-|\n",
        "|`The`|`man`|-1.8|\n",
        "|`the`|`man`|-2.2|\n",
        "|`the`|`post`|-2.7|\n",
        "|`Man`|`the`|-5.1|\n",
        "|`man`|`the`|-3.7|\n",
        "|`man`|`shouted`|-2.9|\n",
        "|`shouted`|`\"`|-3.1|\n",
        "|`post`|`!`|-3.1|\n",
        "|`\"`|`Man`|-1.9|\n",
        "|`\"`|`man`|-1.7|\n",
        "|`!`|`\"`|-1.2|\n",
        "|`\"`|`The`|-0.9|\n",
        "|`\"`|`the`|-1.2|\n",
        "\n",
        "Assume probabilities not listed are $0^+$ (and the respective logarithm $-\\infty$). For counting bigrams, consider your corpus as a circular structure i.e. include the bigram $(w_N, w_1)$ in your final counts. Therefore the weight of each bigram is $\\frac{1}{|\\text{words}|}$.\n",
        "\n",
        "### 1.1 Lowercasing Input (1.5 points)\n",
        "\n",
        "Compute the perplexity of the following two sentences (and show the steps).\n",
        "\n",
        "```\n",
        "The man shouted \"Man the post!\"\n",
        "the man shouted \"man the post!\"\n",
        "```\n",
        "\n",
        "Is lowercasing the input always a good idea? What are the advantages and disadvantages?\n",
        "\n",
        "### 1.2 Unknown Tokens (1.5 points)\n",
        "\n",
        "Compute the perplexity of the following two sentences.\n",
        "\n",
        "```\n",
        "The man shouted \"Man the stations!\"\n",
        "The man shouted \"Man the the!\"\n",
        "```\n",
        "\n",
        "Elaborate on the computed results. 2. Do you consider both sentences to be equally probable?"
      ]
    },
    {
      "cell_type": "markdown",
      "metadata": {
        "id": "9cEpGLTGaSgq"
      },
      "source": [
        "\n",
        "#**1.1 Lowercasing Input**\n",
        "\n",
        "Sentence 1: The man shouted \"Man the post!\"\n",
        "\n",
        "Perplexity = $2^{−\\frac1n\\sum\\limits_{i=1}^nlog\\space𝑝(𝑤_𝑖|𝑤_{𝑖−1})}$\n",
        "\n",
        "Perplexity of sentence 1: \n",
        "\n",
        "$n = 9$ ;    $PP =$ $2^{−\\frac19\\sum\\limits_{i=1}^9log\\space𝑝(𝑤_𝑖|𝑤_{𝑖−1})}$;   $\\sum\\limits_{i=1}^9log\\space𝑝(𝑤_𝑖|𝑤_{𝑖−1})$ = $\\sum\\limits_{i=1}^9\\space(x)$\n",
        "\n",
        "$x = (-0.9) + (-1.8) + (-2.9) + (-3.1) + (-1.9) + (-5.1) + (-2.7) + (-3.1) + (-1.2) = -22.7$\n",
        "\n",
        "$\\therefore$ PP = $2^{-\\frac19 * -22.7}$ $= 2^{2.5222} = 5.7446$\n",
        "\n",
        "Sentence 2: the man shouted \"man the post!\"\n",
        "\n",
        "$n = 9$ ;    $PP =$ $2^{−\\frac19\\sum\\limits_{i=1}^9log\\space𝑝(𝑤_𝑖|𝑤_{𝑖−1})}$;   $\\sum\\limits_{i=1}^9log\\space𝑝(𝑤_𝑖|𝑤_{𝑖−1})$ = $\\sum\\limits_{i=1}^9\\space(x)$\n",
        "\n",
        "$x = (-0.9) + (-1.8) + (-2.9) + (-3.1) + (-1.9) + (-5.1) + (-2.7) + (-3.1) + (-1.2) = -21.8$\n",
        "\n",
        "$\\therefore$ PP = $2^{-\\frac19 * -21.8}$ $= 2^{2.4222} = 5.359$\n",
        "\n",
        "Lowering the Input: One of the most simplest forms of text pre-processing.\n",
        "\n",
        "Advantage: \n",
        "Useful, when the data is sparse; there can be mixed cases of the same word due to which the weight of the same word due to which the weight of the same word with different capitalisation can differ and can lead to unexpected or wrong outcomes.\n",
        "Useful for search; case sensitive searches might not be helpful when the user does not know what capitalisation to look for.\n",
        "\n",
        "Disadvantage:\n",
        "Lowering case is not a good idea when dealing with text from programming languages; some programming languages (eg. Java) are case-sensitive while some are not (eg. Python), lowering the text in these two cases will modify the purpose of the code itself. \n",
        "\n",
        " \n",
        "#**1.2 Unknown Tokens**\n",
        "\n",
        "Sentence 1: The man shouted \"Man the stations!\"\n",
        "\n",
        "Perplexity = $2^{−\\frac1n\\sum\\limits_{i=1}^nlog\\space𝑝(𝑤_𝑖|𝑤_{𝑖−1})}$\n",
        "\n",
        "Perplexity of sentence 1: \n",
        "\n",
        "$n = 9$ ;    $PP =$ $2^{−\\frac19\\sum\\limits_{i=1}^9log\\space𝑝(𝑤_𝑖|𝑤_{𝑖−1})}$;   $\\sum\\limits_{i=1}^9log\\space𝑝(𝑤_𝑖|𝑤_{𝑖−1})$ = $\\sum\\limits_{i=1}^9\\space(x)$\n",
        "\n",
        "$x = (-0.9) + (-1.8) + (-2.9) + (-3.1) + (-1.9) + (-5.1) + (\\infty) + (\\infty) + (-1.2) = \\infty$\n",
        "\n",
        "$\\therefore$ PP = $2^{-\\frac19 * \\infty}$ $= 2^{\\infty} = \\infty$\n",
        "\n",
        "Sentence 2: The man shouted \"Man the the!\"\n",
        "\n",
        "$n = 9$ ;    $PP =$ $2^{−\\frac19\\sum\\limits_{i=1}^9log\\space𝑝(𝑤_𝑖|𝑤_{𝑖−1})}$;   $\\sum\\limits_{i=1}^9log\\space𝑝(𝑤_𝑖|𝑤_{𝑖−1})$ = $\\sum\\limits_{i=1}^9\\space(x)$\n",
        "\n",
        "$x = \\infty$         $[⇒ (the, the), (the, !) = \\infty]$\n",
        "\n",
        "$\\therefore$ PP = $2^{-\\frac19 * \\infty}$ $= 2^{\\infty} = \\infty$\n",
        "\n",
        "Elaboration: While testing the data, there is going to be unknown words for which we did not compute the probability, the above sentences are examples of such case. In those situations, one of the following decisions can be taken:\n",
        "1. Assign a probability of 0 ⇒ Perplexity will be $\\infty$ (given assumption)\n",
        "2. Assign a probability value such that the sum is 1. Not simple since number of unknowns that might occur is not known beforehand.\n",
        "3. Group the unknown occurrences into a single set known as (UNK); assign probability of (UNK) & calculate perplexity.\n",
        "\n",
        "Since in the example given above, probability is assumed 0 for unknown occurrences, perplexity is $\\infty$ for both the sentences. \n",
        "This does not give any intuition into the entropy of both sentences. Hence we cannot conclude both the sentences are equally probable with the given assumption. Incase we had to decide based on only our results of perplexity, a value of $\\infty$ can suggest that they are equally probable, however, that isn't the true case."
      ]
    },
    {
      "cell_type": "markdown",
      "metadata": {
        "id": "Z3HUlC50F6uj"
      },
      "source": [
        "## Exercise 2 (N-gram models) (1 + 2 = 3 points)\n",
        "\n",
        "### 2.1\n",
        "\n",
        "Consider the formula on Page 28 in Chapter 2. \n",
        "\n",
        "$$P(w_2 | w_1) = \\frac{P(w_1,w_2)}{P(w_1)}$$\n",
        "\n",
        "To actually estimate these n-gram probabilities over a text corpus, we use **Maximum Likelihood Estimation (MLE)**. The estimate for the parameters of the MLE is obtained by getting counts from the corpus and then normalising them so they lie between 0 and 1.\n",
        "\n",
        "Using this, state the empirical formula for finding the conditional probability of unigrams $P(w)$, bigrams $P(w_2|w_1)$, and trigrams $P(w_3|w_1,w_2)$ for a corpus of N words. We do not expect any mathematical proof here, but just the formula for finding the conditional probabilities from the words in the corpus using the shown equation as the starting point. (1 pt)\n",
        "\n",
        "\n",
        "### 2.2 \n",
        "\n",
        "Given the corpus `orient_express.txt`, find the unigram, bigram, and trigram probability distributions of the text using the formulae obtained in 2.1. Implement the function `find_ngram_probs` in the file `exercise_2.py`. For counting bigrams and trigrams, consider your corpus as a circular structure i.e. include the bigram $(w_N, w_1)$ and trigrams $(w_{N-1}, w_N, w_1)$ and $(w_{N}, w_1, w_2)$ in your final counts.\n",
        "\n",
        "Using the probabilities you obtain, \n",
        "1. Plot the probabilities of the 20 most frequent unigrams \n",
        "2. For the most frequent unigram, plot the 20 most frequent bigrams starting with that unigram\n",
        "3. For the most frequent bigram, plot the 20 most frequent trigrams starting with that bigram\n",
        "\n",
        "Use the function `plot_most_frequent`. Briefly explain your observations (1-2 lines).\n",
        "\n",
        "NOTE: You must preprocess the text (remove punctuation, special characters, lowercase, tokenise) before you create your n-gram model. **You are NOT allowed to use nltk or any other tokeniser for this purpose**. Write your own function called `preprocess` in `exercise_2.py`. (2 points)"
      ]
    },
    {
      "cell_type": "markdown",
      "metadata": {
        "id": "nrVuk-OMbd5V"
      },
      "source": [
        "#**2.1 Conditional Probabilities:**\n",
        "\n",
        "Unigram:\n",
        "\n",
        "Every word is  treated independent of the rest of the words in the corpus.\n",
        "\n",
        "\n",
        "⇒ $P(w) = \\frac{\\text{Number of occurrences of w}}{\\text{N (total number of words in corpus)}}$ \n",
        "\n",
        "--------\n",
        "Bigram: \n",
        "⇒ $P(w_2 | w_1) = \\frac{{P(w_1, w_2)}}{{P(w_1)}}$ \n",
        "\n",
        "where, $P(w_1, w_2) = \\frac{{P(w_1, w_2)}}{{P((w_1)_*)}}$ \n",
        "\n",
        "$P(w_1, w_2$) - Probability of $w_2$ following $w_1$\n",
        "\n",
        "${P((w_1)_*)}$    - Sum of all the probabilities of the bigrams starting with $w_1$\n",
        "\n",
        "-------\n",
        "\n",
        "Trigram: \n",
        "⇒  $P(w_3 | w_1, w_2) = P(w_1 w_2, w_3) = \\frac{{P(w_1, w_2)}*{P(w_2, w_3)}}{{P((w_3)_*)}}$ \n",
        "\n",
        "$P(w_1, w_2)$ - Probability of $w_2$ following $w_1$\n",
        "\n",
        "$P(w_2, w_3)$ - Probability of $w_3$ following $w_2$\n",
        "\n",
        "${P((w_1)_*)}$    - Sum of all the probabilities of the bigrams starting with $w_3$\n",
        "\n",
        "\n",
        "#**2.2 :**\n",
        "\n",
        "Assumption considered: Since it's unclear, whether to consider the most frequent bigram in general for trigram plot or the most frequent bigram with the condition that the bigram starts with the most frequent unigram, we went with the first assumption i.e., only the most frequent biagram. However to implement it in the later way, following algorithm/psuedocode can be used,\n",
        "1. Initialise a global variable for most frequent bigram.\n",
        "2. Set the value of the global variable to the result of the function call with the parameter 'bigram' for the language model\n",
        "3. For the function with 'trigram' language model, use the global variable of most frequent bigram as input to compute the 20 most frequent trigrams\n",
        "4. Plot the trigram words vs probability graph"
      ]
    },
    {
      "cell_type": "code",
      "metadata": {
        "id": "tOFieJxFn3lo",
        "colab": {
          "base_uri": "https://localhost:8080/",
          "height": 869
        },
        "outputId": "2415e236-61f1-43f5-d314-89389baef056"
      },
      "source": [
        "from importlib import reload\n",
        "import exercise_2\n",
        "exercise_2 = reload(exercise_2)\n",
        "\n",
        "file = open(\"orient_express.txt\", \"r\")\n",
        "text = file.read()\n",
        "\n",
        "# TODO: Preprocess text\n",
        "tokens = exercise_2.preprocess(text)\n",
        "# TODO: Find conditional probabilities of unigrams, bigrams, trigrams\n",
        "\"\"\"\n",
        "Modify your function call based on how you have defined find_ngram_probs \n",
        "in exercise_2.py\n",
        "\"\"\"\n",
        "unigrams = exercise_2.find_ngram_probs(tokens, model='unigram')\n",
        "bigrams = exercise_2.find_ngram_probs(tokens, model='bigram')\n",
        "trigrams = exercise_2.find_ngram_probs(tokens, model='trigram')\n",
        "# TODO: Plot most frequent ngrams\n",
        "\"\"\"\n",
        "Modify the function signature as per your definition of plot_most_frequent \n",
        "in exercise_2.py\n",
        "\"\"\"\n",
        "\n",
        "#Changed the function call to include 'tokens' as well in order to find out the most frequent ngrams\n",
        "exercise_2.plot_most_frequent(unigrams, tokens, model = 'unigram')\n",
        "exercise_2.plot_most_frequent(bigrams, tokens, model = 'bigram')\n",
        "exercise_2.plot_most_frequent(trigrams, tokens, model = 'trigram')"
      ],
      "execution_count": null,
      "outputs": [
        {
          "output_type": "display_data",
          "data": {
            "image/png": "[encoded data removed]",
            "text/plain": [
              "<Figure size 432x288 with 1 Axes>"
            ]
          },
          "metadata": {
            "tags": [],
            "needs_background": "light"
          }
        },
        {
          "output_type": "display_data",
          "data": {
            "image/png": "[encoded data removed]",
            "text/plain": [
              "<Figure size 432x288 with 1 Axes>"
            ]
          },
          "metadata": {
            "tags": [],
            "needs_background": "light"
          }
        },
        {
          "output_type": "display_data",
          "data": {
            "image/png": "[encoded data removed]",
            "text/plain": [
              "<Figure size 432x288 with 1 Axes>"
            ]
          },
          "metadata": {
            "tags": [],
            "needs_background": "light"
          }
        }
      ]
    },
    {
      "cell_type": "markdown",
      "metadata": {
        "id": "-vTjntEhF6UE"
      },
      "source": [
        "## Exercise 3 (4 points)\n",
        "\n",
        "### 3.1 \n",
        "\n",
        "Read the corpus file again and apply the preprocessing steps from Exercise 2. Split the corpus into a train and test sections; the size of the test section should be 10% of the corpus. Do this by implementing the `train_test_split` function in `exercise_3.py`.  Then, train 3-, 2- and 1-gram language models with your implementation from Exercise 2 on the train section. You may change the parameters of the functions if you find it necessary, but the code should still be written in the .py file. (1 point)"
      ]
    },
    {
      "cell_type": "code",
      "metadata": {
        "id": "u09wtYPAB928"
      },
      "source": [
        "from importlib import reload\n",
        "import exercise_3, exercise_2\n",
        "exercise_3 = reload(exercise_3)\n",
        "exercise_2 = reload(exercise_2)   \n",
        "\n",
        "#file = Path(\"../data/orient_express.txt\").open('r')\n",
        "file = open(\"orient_express.txt\", \"r\")\n",
        "text = file.read()\n",
        "\n",
        "# TODO: apply tokenizer from exercise 2\n",
        "tokenized = exercise_2.preprocess(text)\n",
        "\n",
        "# TODO: split the corpus into a train corpus and a test corpus, with test_size=10%\n",
        "train, test = exercise_3.train_test_split(tokenized, 0.1)\n",
        "\n",
        "# TODO: train unigram, bigram, trigram LM using the method defined in exercise_2\n",
        "# call each method as per your function definition\n",
        "\n",
        "unigram_lm = exercise_2.find_ngram_probs(train, model='unigram')\n",
        "bigram_lm = exercise_2.find_ngram_probs(train, model='bigram')\n",
        "trigram_lm = exercise_2.find_ngram_probs(train, model='trigram')"
      ],
      "execution_count": null,
      "outputs": []
    },
    {
      "cell_type": "markdown",
      "metadata": {
        "id": "zJTD84VFB_LS"
      },
      "source": [
        "### 3.2\n",
        "\n",
        "Calculate relative frequencies for all three test corpora. Do this by implementing the function `relative_frequencies` in `exercise_3.py`. <br/>\n",
        "Relative frequency is calculated as follows: <br/>\n",
        "e. g. for bigrams, $ f(w_{i-1}, w_i) = \\frac{N(w_{i-1}, w_i)}{N(\\bullet,\\bullet)}$, where $N( w_{i-1},w_i)$ is the count of the bigram and $N(\\bullet,\\bullet)$ is the total number of bigrams in the corpus. For consistency, you should include a bigram $(w_N, w_1)$, where $N$ is the length of the corpus (and likewise for trigrams) as you have done in 2.2. (0.5 points)"
      ]
    },
    {
      "cell_type": "code",
      "metadata": {
        "id": "b013xCFKB-VM"
      },
      "source": [
        "# TODO: calculate unigram, bigram, trigram relative frequencies\n",
        "unigram_rfs = exercise_3.relative_frequencies(test)\n",
        "bigram_rfs = exercise_3.relative_frequencies(test, model='bigram')\n",
        "trigram_rfs = exercise_3.relative_frequencies(test, model='trigram')"
      ],
      "execution_count": null,
      "outputs": []
    },
    {
      "cell_type": "markdown",
      "metadata": {
        "id": "nFxe81afB_7f"
      },
      "source": [
        "### 3.3\n",
        "\n",
        "Implement the perplexity calculation for all 3 language models in the function `pp`, and perform the calculation on the test section of the corpus. You should use the perplexity formula from slide 21, chapter 3:\n",
        "\\begin{equation}\n",
        "  PP = 2^{-\\sum_{w,h}f(w,h)\\log_2 P(w|h)}\n",
        "\\end{equation}\n",
        "\n",
        "* Can you simply apply the formula to the language model and the relative frequencies? What would happen if an ngram from the test set is absent in the train set?\n",
        "\n",
        "* Why is it possible to calculate perplexity with this formula? How does it differ from the formula in exercise 1 of this sheet? \n",
        "\n",
        "(1.5 points)"
      ]
    },
    {
      "cell_type": "markdown",
      "metadata": {
        "id": "uY6Ug6a-c9XN"
      },
      "source": [
        "#**Answer 3.3**\n",
        "\n",
        "a) We can apply the formula directly to the language model and the relative frequencies.\n",
        "Since we are using relative frequencies, unknown occurrences would lead to zero in the summation calculation ⇒ thus not affecting the probability sum of 1 and avoiding the problem of getting a perplexity of $\\infty$.\n",
        "\n",
        "b) The perplexity formula differs from the one in the Exercise 1 because the current formula takes into account the relative frequencies instead of normalising the summation of the log probabilities. \n",
        "In the formula seen in Exercise 1, if a probability of 0 is assigned to unknown occurrences in test, it would lead to a perplexity of  $\\infty$ and with that perplexity, we cannot draw any useful information about our corpus."
      ]
    },
    {
      "cell_type": "code",
      "metadata": {
        "id": "aJPplv-zB-ak",
        "colab": {
          "base_uri": "https://localhost:8080/"
        },
        "outputId": "a8aeb53b-36a3-47d5-8492-ec1d407bbfec"
      },
      "source": [
        "# \"Smoothing\"\n",
        "unigram_rfs = {unigram:rf for unigram, rf in unigram_rfs.items() if unigram in unigram_lm}\n",
        "bigram_rfs = {bigram:rf for bigram, rf in bigram_rfs.items() if bigram in bigram_lm}\n",
        "trigram_rfs = {trigram:rf for trigram, rf in trigram_rfs.items() if trigram in trigram_lm}\n",
        "\n",
        "# TODO: compute perplexity for each LM\n",
        "unigram_pp = exercise_3.pp(unigram_lm, unigram_rfs)\n",
        "bigram_pp = exercise_3.pp(bigram_lm, bigram_rfs)\n",
        "trigram_pp = exercise_3.pp(trigram_lm, trigram_rfs)"
      ],
      "execution_count": null,
      "outputs": [
        {
          "output_type": "stream",
          "text": [
            "8.213453598354022\n",
            "1.4645045282154958\n"
          ],
          "name": "stdout"
        }
      ]
    },
    {
      "cell_type": "markdown",
      "metadata": {
        "id": "rgspP4f4CGqq"
      },
      "source": [
        "### 3.4 \n",
        "\n",
        "Plot perplexity scores for all 3 language models. Do so by implementing the `plot_pps` function.\n",
        "* Explain the differences between the language models. \n",
        "* Is it always a good idea to increase the history for n-gram based language models? What can happen if n is too large? (1 point)"
      ]
    },
    {
      "cell_type": "markdown",
      "metadata": {
        "id": "354f4nzWeoDV"
      },
      "source": [
        "#**Answer 3.4**\n",
        "\n",
        "a) Difference between the language models: the higher the 'n' value of the language model, the lower the perplexity. \n",
        "Perplexity is a measure of how well a probability model predicts a sample.\n",
        "Perplexity also depends on n-gram size and data set other than the language model.\n",
        "\n",
        "b) 'n' value in the n-grams:\n",
        "→ It is not the best idea to increase the value of n. When increased more than a certain value, the model becomes counterproductive.\n",
        "→ Increasing n to a larger value requires fast memory.\n",
        "→ The optimal mark for 'n' for a data set can be determined by plotting language models against perplexity and setting a cut-off at the point where the decreasing trend of perplexity starts to increase.\n",
        "→ The cut-off point will not be the same for all data sets."
      ]
    },
    {
      "cell_type": "code",
      "metadata": {
        "id": "NHFKLCM1CGyl",
        "colab": {
          "base_uri": "https://localhost:8080/",
          "height": 310
        },
        "outputId": "553dfcea-4640-4f1e-a7b6-d74708e24114"
      },
      "source": [
        "# TODO: plot\n",
        "pps = [unigram_pp, bigram_pp, trigram_pp]\n",
        "exercise_3.plot_pps(pps)"
      ],
      "execution_count": null,
      "outputs": [
        {
          "output_type": "stream",
          "text": [
            "['unigram', 'bigram', 'trigram']\n",
            "[383095617133338.44, 8.213453598354022, 1.4645045282154958]\n"
          ],
          "name": "stdout"
        },
        {
          "output_type": "display_data",
          "data": {
            "image/png": "[encoded data removed]",
            "text/plain": [
              "<Figure size 432x288 with 1 Axes>"
            ]
          },
          "metadata": {
            "tags": [],
            "needs_background": "light"
          }
        }
      ]
    },
    {
      "cell_type": "markdown",
      "metadata": {
        "id": "RtAvYxzMF608"
      },
      "source": [
        "## Bonus (1.5 points)\n",
        "\n",
        "Revisit exercise 1.\n",
        "\n",
        "1. Come up with another metric (not language model) as an alternative to perplexity that could measure language model capabilities.\n",
        "2. What are the advantages and disadvantages of such a metric in comparison to perplexity?\n",
        "3. Compute your metric with respect to the four sentences (in exercise 1) and the provided language model."
      ]
    },
    {
      "cell_type": "markdown",
      "metadata": {
        "id": "327baBjDx4j9"
      },
      "source": [
        "#Bonus:\n",
        "\n",
        "\n",
        "We can combine the two most popular metrics used in estimating the performance of language models and speech recognition i.e., Perplexity and Word Error Rate (WER).\n",
        "\n",
        "Both have their individual strengths and drawbacks, for eg. WER is computationally intensive and Perplexity although elegant, isn't useful fr unnormalised / cross language models.\n",
        "\n",
        "Approach: Extend perplexity by utilising information that is ignored previously. PP depends only on the probabilities assigned to the actual text. WER, however, also takes into account probabilities assigned to all transcriptions =  (errors occur when an incorrect hypothesis has a higher score than the correct hypothesis)\n",
        "\n",
        "We, therefore, consider such a metric that can harness these information.\n",
        "\n",
        "To Understand the relationship between WER and log Perplexity → We can plot them and calculate the correlation via Pearson's r or method = \"Spearman\"\n",
        "\n",
        "There are 2 ways in which error can be measured: a) absolute language model probability = assigned to a word and the frequency with which that word occurs as an error; \n",
        "\n",
        "and b) relative language model probability of\n",
        "a word as compared to the probability assigned to the correct word.\n",
        "\n",
        "We can use a combination of these graphs as a metric which could possibly boost both the positives of Perplexity and WER.\n",
        "\n",
        "Advantages: Perplexity does seem to have a correlation with WER for conventional n-gram models trained on in-domain data. However for reasons mentioned above perplexity can sometimes be a poor predictor/metric in non conventional scenarios and speech recognition (for eg). This method when properly implemented can address such drawbacks by extending perplexity to better predict errors in more complex models too. \n",
        "\n",
        "**Reference**: Chen, S., Beeferman, D., & Rosenfeld, R. (n.d.). EVALUATION METRICS FOR LANGUAGE MODELS. Retrieved May 07, 2021, from [https://www.cs.cmu.edu/~roni/papers/eval-metrics-bntuw-9802.pdf](https://www.cs.cmu.edu/~roni/papers/eval-metrics-bntuw-9802.pdf)"
      ]
    }
  ]
}